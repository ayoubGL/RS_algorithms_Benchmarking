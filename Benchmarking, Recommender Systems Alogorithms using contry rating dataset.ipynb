{
 "cells": [
  {
   "cell_type": "markdown",
   "metadata": {},
   "source": [
    "# Test \n",
    "Benchmarkingrecommender system algorithms on our dataset by test each algorithm based on cross valide the dataset into 3, in order to choose wich algorithm gives good accuracy."
   ]
  },
  {
   "cell_type": "code",
   "execution_count": 57,
   "metadata": {},
   "outputs": [],
   "source": [
    "# load required libraries\n",
    "from surprise import *\n",
    "from surprise.model_selection import cross_validate, KFold\n",
    "import numpy as np\n",
    "import os\n",
    "from tabulate import tabulate\n",
    "import time\n",
    "import datetime\n",
    "import random"
   ]
  },
  {
   "cell_type": "code",
   "execution_count": 58,
   "metadata": {},
   "outputs": [],
   "source": [
    "# load the dataset\n",
    "path = os.path.expanduser('CRdata.csv')  # the dataset path\n",
    "reader = Reader(line_format='user item rating timestamp',sep = ',', rating_scale = (0,100))\n",
    "data = Dataset.load_from_file(path, reader= reader) "
   ]
  },
  {
   "cell_type": "code",
   "execution_count": 82,
   "metadata": {},
   "outputs": [],
   "source": [
    "# algorithms from surprise\n",
    "algorithms = (SVD, SVDpp, NMF, SlopeOne, KNNBasic, KNNWithMeans, KNNBaseline,\n",
    "           CoClustering, BaselineOnly, NormalPredictor)   "
   ]
  },
  {
   "cell_type": "code",
   "execution_count": 66,
   "metadata": {},
   "outputs": [],
   "source": [
    "np.random.seed(0)\n",
    "random.seed(0)\n",
    "kf_5 = KFold(n_splits=5,random_state=0) # split the data set into 5-fold\n",
    "kf_4 = KFold(n_splits=5,random_state=0) # split the data set into 4-fold\n",
    "kf_3= KFold(n_splits=5,random_state=0) # split the data set into 2-fold"
   ]
  },
  {
   "cell_type": "code",
   "execution_count": null,
   "metadata": {},
   "outputs": [],
   "source": [
    "table_5 = []\n",
    "table_4 = []\n",
    "table_3 = []\n",
    "\n",
    "\n",
    "# run the test \n",
    "for algo in algorithms:\n",
    "    start = time.time()\n",
    "    result_5= cross_validate(algo(), data, ['rmse','mae'],kf_5)\n",
    "    cv_time = str(datetime.timedelta(seconds=int(time.time() - start)))\n",
    "    mean_rmse = '{:.3f}'.format(np.mean(result_5['test_rmse']))\n",
    "    mean_mae = '{:.3f}'.format(np.mean(result_5['test_mae']))\n",
    "    line = [str(algo.__name__), mean_rmse, mean_mae,cv_time]\n",
    "    table_5.append(line)\n",
    "    \n",
    "    start = time.time()\n",
    "    result_4= cross_validate(algo(), data, ['rmse','mae'],kf_3)\n",
    "    cv_time = str(datetime.timedelta(seconds=int(time.time() - start)))\n",
    "    mean_rmse = '{:.3f}'.format(np.mean(result_4['test_rmse']))\n",
    "    mean_mae = '{:.3f}'.format(np.mean(result_4['test_mae']))\n",
    "    line = [str(algo.__name__), mean_rmse, mean_mae,cv_time]\n",
    "    table_4.append(line)\n",
    "    \n",
    "    start = time.time()\n",
    "    result_3= cross_validate(algo(), data, ['rmse','mae'],kf_4)\n",
    "    cv_time = str(datetime.timedelta(seconds=int(time.time() - start)))\n",
    "    mean_rmse = '{:.3f}'.format(np.mean(result_3['test_rmse']))\n",
    "    mean_mae = '{:.3f}'.format(np.mean(result_3['test_mae']))\n",
    "    line = [str(algo.__name__), mean_rmse, mean_mae,cv_time]\n",
    "    table_3.append(line)\n",
    "    "
   ]
  },
  {
   "cell_type": "code",
   "execution_count": 81,
   "metadata": {},
   "outputs": [
    {
     "name": "stdout",
     "output_type": "stream",
     "text": [
      " \n",
      " \t -------------------- The result for K = 5 --------------------------- \t \n",
      "\n",
      "| County Rating Dataset   |   RMSE |    MAE | Time    |\n",
      "|:------------------------|-------:|-------:|:--------|\n",
      "| SVD                     | 21.714 | 16.06  | 0:00:00 |\n",
      "| SVDpp                   | 58.217 | 51.065 | 0:00:04 |\n",
      "| NMF                     | 48.659 | 41.439 | 0:00:00 |\n",
      "| SlopeOne                | 23.476 | 18.625 | 0:00:00 |\n",
      "| KNNBasic                | 21.977 | 16.88  | 0:00:00 |\n",
      "| KNNWithMeans            | 21.591 | 16.493 | 0:00:00 |\n",
      "| KNNBaseline             | 21.589 | 16.473 | 0:00:00 |\n",
      "| CoClustering            | 21.393 | 16.635 | 0:00:00 |\n",
      "| BaselineOnly            | 23.505 | 19.219 | 0:00:00 |\n",
      "| NormalPredictor         | 37.939 | 30.913 | 0:00:00 |\n",
      "\n",
      "\t-------------------- The result for K = 4 --------------------------- \t\n",
      "\n",
      "| County Rating Dataset   |   RMSE |    MAE | Time    |\n",
      "|:------------------------|-------:|-------:|:--------|\n",
      "| SVD                     | 21.634 | 15.99  | 0:00:00 |\n",
      "| SVDpp                   | 58.217 | 51.065 | 0:00:04 |\n",
      "| NMF                     | 48.499 | 41.305 | 0:00:00 |\n",
      "| SlopeOne                | 23.476 | 18.625 | 0:00:00 |\n",
      "| KNNBasic                | 21.977 | 16.88  | 0:00:00 |\n",
      "| KNNWithMeans            | 21.591 | 16.493 | 0:00:00 |\n",
      "| KNNBaseline             | 21.589 | 16.473 | 0:00:00 |\n",
      "| CoClustering            | 20.998 | 16.216 | 0:00:00 |\n",
      "| BaselineOnly            | 23.505 | 19.219 | 0:00:00 |\n",
      "| NormalPredictor         | 37.679 | 30.79  | 0:00:00 |\n",
      "\n",
      "\t -------------------- The result for K = 3 --------------------------- \t\n",
      "\n",
      "| County Rating Dataset   |   RMSE |    MAE | Time    |\n",
      "|:------------------------|-------:|-------:|:--------|\n",
      "| SVD                     | 21.62  | 15.991 | 0:00:00 |\n",
      "| SVDpp                   | 58.217 | 51.065 | 0:00:04 |\n",
      "| NMF                     | 48.613 | 41.392 | 0:00:00 |\n",
      "| SlopeOne                | 23.476 | 18.625 | 0:00:00 |\n",
      "| KNNBasic                | 21.977 | 16.88  | 0:00:00 |\n",
      "| KNNWithMeans            | 21.591 | 16.493 | 0:00:00 |\n",
      "| KNNBaseline             | 21.589 | 16.473 | 0:00:00 |\n",
      "| CoClustering            | 20.695 | 15.966 | 0:00:00 |\n",
      "| BaselineOnly            | 23.505 | 19.219 | 0:00:00 |\n",
      "| NormalPredictor         | 37.915 | 30.94  | 0:00:00 |\n"
     ]
    }
   ],
   "source": [
    "table_header = [str('County Rating Dataset'),'RMSE','MAE','Time']\n",
    "print(' \\n \\t -------------------- The result for K = 5 --------------------------- \\t \\n')\n",
    "\n",
    "print(tabulate(table_5, table_header, tablefmt=\"pipe\"))\n",
    "print('\\n\\t-------------------- The result for K = 4 --------------------------- \\t\\n')\n",
    "\n",
    "print(tabulate(table_4, table_header, tablefmt=\"pipe\"))\n",
    "\n",
    "print('\\n\\t -------------------- The result for K = 3 --------------------------- \\t\\n')\n",
    "\n",
    "print(tabulate(table_3, table_header, tablefmt=\"pipe\"))"
   ]
  },
  {
   "cell_type": "markdown",
   "metadata": {},
   "source": [
    "it seems quite that the number of fold in cross validation, didn't make huge differences in terms of the accuracy, so our benchmarking focus just on the RMSE, and MAE. So after easy analysis we fuger out that __SVD__, __KNNBaseLine__ and __CoClustring__ are the ones with the lowest combined RMSE and MAE"
   ]
  },
  {
   "cell_type": "code",
   "execution_count": null,
   "metadata": {},
   "outputs": [],
   "source": []
  }
 ],
 "metadata": {
  "kernelspec": {
   "display_name": "Python 3",
   "language": "python",
   "name": "python3"
  },
  "language_info": {
   "codemirror_mode": {
    "name": "ipython",
    "version": 3
   },
   "file_extension": ".py",
   "mimetype": "text/x-python",
   "name": "python",
   "nbconvert_exporter": "python",
   "pygments_lexer": "ipython3",
   "version": "3.6.8"
  }
 },
 "nbformat": 4,
 "nbformat_minor": 2
}
